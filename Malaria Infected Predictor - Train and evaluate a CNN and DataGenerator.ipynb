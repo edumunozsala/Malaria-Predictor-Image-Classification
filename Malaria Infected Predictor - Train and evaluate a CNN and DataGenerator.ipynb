{
 "cells": [
  {
   "cell_type": "markdown",
   "metadata": {},
   "source": [
    "# Malaria predictor: an image classification problem\n",
    "# Training a Convolutional Neural Network with data augmentation\n",
    "\n",
    "This notebook creates a convolutional neural network using Keras framework to classify images to predict when a cell is infected or not infected with Malaria. The image data was previouslly processed, stored in a numpy array and saved to disk. We will load this files to get the train and validation datasets. And to avoid overfitting we apply the data augmentation technique, it allow to train the model on much more images for a longer number of epochs "
   ]
  },
  {
   "cell_type": "markdown",
   "metadata": {},
   "source": [
    "### Loading the libraries and setting global variables"
   ]
  },
  {
   "cell_type": "code",
   "execution_count": 1,
   "metadata": {
    "collapsed": true
   },
   "outputs": [],
   "source": [
    "import matplotlib.pyplot as plt\n",
    "import os\n",
    "import numpy as np\n"
   ]
  },
  {
   "cell_type": "code",
   "execution_count": 2,
   "metadata": {
    "collapsed": true
   },
   "outputs": [],
   "source": [
    "#root folder\n",
    "root_folder='..'\n",
    "\n",
    "# Set the folder with the dataset or images\n",
    "data_folder_name='Datasets/malaria_data'\n",
    "DATA_PATH = os.path.abspath(os.path.join(root_folder, data_folder_name))\n",
    "\n",
    "#Compressed file of numpy arrays of images\n",
    "file_np_array=\"x_images_arrays.npz\"\n",
    "file_np_array_zip=\"x_images_arrays_zip_10000.npz\"\n",
    "labels_np_array=\"y_infected_labels_10000.npz\"\n",
    "\n",
    "#Full Dataset\n",
    "#The Full Dataset are in the next variable\n",
    "#file_np_array_zip=\"x_images_arrays_zip21765.npz\"\n",
    "#labels_np_array=\"y_infiltration_labels21765.npz\"\n"
   ]
  },
  {
   "cell_type": "markdown",
   "metadata": {},
   "source": [
    "### Load the images and labels as numpy arrays"
   ]
  },
  {
   "cell_type": "code",
   "execution_count": 4,
   "metadata": {
    "collapsed": true
   },
   "outputs": [],
   "source": [
    "# Load npz file containing image arrays\n",
    "if file_np_array_zip!=None:\n",
    "    x_npz = np.load(DATA_PATH+'/'+file_np_array_zip)\n",
    "else:\n",
    "    x_npz = np.load(DATA_PATH+'/'+file_np_array)\n",
    "    \n",
    "x = x_npz['arr_0']\n",
    "# Load binary encoded labels for Lung Infiltrations: 0=Not_infiltration 1=Infiltration\n",
    "y_npz = np.load(DATA_PATH+'/'+labels_np_array)\n",
    "y = y_npz['arr_0']"
   ]
  },
  {
   "cell_type": "code",
   "execution_count": 6,
   "metadata": {},
   "outputs": [
    {
     "data": {
      "text/plain": [
       "(10000, 128, 128, 3)"
      ]
     },
     "execution_count": 6,
     "metadata": {},
     "output_type": "execute_result"
    }
   ],
   "source": [
    "x.shape\n",
    "#x[0,0,0]\n",
    "#y.shape\n",
    "#x.max()"
   ]
  },
  {
   "cell_type": "markdown",
   "metadata": {},
   "source": [
    "### Split the data in train, validation and test sets"
   ]
  },
  {
   "cell_type": "code",
   "execution_count": 7,
   "metadata": {
    "collapsed": true
   },
   "outputs": [],
   "source": [
    "from sklearn.model_selection import train_test_split\n",
    "\n",
    "# First split the data in two sets, 80% for training, 20% for Val/Test)\n",
    "X_train, X_valtest, y_train, y_valtest = train_test_split(x,y, test_size=0.2, random_state=1, stratify=y)\n",
    "\n",
    "# Second split the 20% into validation and test sets\n",
    "X_test, X_val, y_test, y_val = train_test_split(X_valtest, y_valtest, test_size=0.5, random_state=1, stratify=y_valtest)\n"
   ]
  },
  {
   "cell_type": "markdown",
   "metadata": {},
   "source": [
    "Now, lets show the dimensions of our datasets"
   ]
  },
  {
   "cell_type": "code",
   "execution_count": 8,
   "metadata": {},
   "outputs": [
    {
     "name": "stdout",
     "output_type": "stream",
     "text": [
      "X_train n:  8000  Shape:  (8000, 128, 128, 3)\n",
      "X_test n:  1000  Shape:  (1000, 128, 128, 3)\n",
      "X_val n:  1000  Shape:  (1000, 128, 128, 3)\n",
      "y_train n:  (8000,)\n",
      "y_test n:  (1000,)\n",
      "y_val n:  (1000,)\n"
     ]
    }
   ],
   "source": [
    "print('X_train n: ',len(X_train),' Shape: ',X_train.shape)\n",
    "print('X_test n: ',len(X_test),' Shape: ',X_test.shape)\n",
    "print('X_val n: ',len(X_val),' Shape: ',X_val.shape)\n",
    "print('y_train n: ',y_train.shape)\n",
    "print('y_test n: ',y_test.shape)\n",
    "print('y_val n: ',y_val.shape)"
   ]
  },
  {
   "cell_type": "markdown",
   "metadata": {},
   "source": [
    "### Create a keras model defining a CNN architecture\n",
    "\n",
    "We set the parameters batch size and number of epochs and then create a model containing 3 convolutional + Maxpool layers and finally a fully-connected layer with 1 output, infected or not infected. "
   ]
  },
  {
   "cell_type": "code",
   "execution_count": 10,
   "metadata": {
    "collapsed": true
   },
   "outputs": [],
   "source": [
    "#Define global variables\n",
    "batch_size = 64\n",
    "epochs = 3\n"
   ]
  },
  {
   "cell_type": "code",
   "execution_count": 9,
   "metadata": {},
   "outputs": [
    {
     "name": "stderr",
     "output_type": "stream",
     "text": [
      "Using TensorFlow backend.\n"
     ]
    }
   ],
   "source": [
    "import keras\n",
    "from keras.models import Sequential\n",
    "from keras.layers import Dense, Dropout, Flatten, Activation\n",
    "from keras.layers import Conv2D, MaxPooling2D, BatchNormalization"
   ]
  },
  {
   "cell_type": "code",
   "execution_count": 11,
   "metadata": {},
   "outputs": [
    {
     "name": "stdout",
     "output_type": "stream",
     "text": [
      "WARNING:tensorflow:From C:\\Users\\edumu\\AppData\\Roaming\\Python\\Python36\\site-packages\\tensorflow\\python\\framework\\op_def_library.py:263: colocate_with (from tensorflow.python.framework.ops) is deprecated and will be removed in a future version.\n",
      "Instructions for updating:\n",
      "Colocations handled automatically by placer.\n",
      "WARNING:tensorflow:From C:\\Users\\edumu\\Anaconda3\\lib\\site-packages\\keras\\backend\\tensorflow_backend.py:3445: calling dropout (from tensorflow.python.ops.nn_ops) with keep_prob is deprecated and will be removed in a future version.\n",
      "Instructions for updating:\n",
      "Please use `rate` instead of `keep_prob`. Rate should be set to `rate = 1 - keep_prob`.\n",
      "_________________________________________________________________\n",
      "Layer (type)                 Output Shape              Param #   \n",
      "=================================================================\n",
      "conv2d_1 (Conv2D)            (None, 126, 126, 32)      896       \n",
      "_________________________________________________________________\n",
      "activation_1 (Activation)    (None, 126, 126, 32)      0         \n",
      "_________________________________________________________________\n",
      "max_pooling2d_1 (MaxPooling2 (None, 63, 63, 32)        0         \n",
      "_________________________________________________________________\n",
      "conv2d_2 (Conv2D)            (None, 61, 61, 64)        18496     \n",
      "_________________________________________________________________\n",
      "activation_2 (Activation)    (None, 61, 61, 64)        0         \n",
      "_________________________________________________________________\n",
      "max_pooling2d_2 (MaxPooling2 (None, 30, 30, 64)        0         \n",
      "_________________________________________________________________\n",
      "conv2d_3 (Conv2D)            (None, 28, 28, 128)       73856     \n",
      "_________________________________________________________________\n",
      "activation_3 (Activation)    (None, 28, 28, 128)       0         \n",
      "_________________________________________________________________\n",
      "max_pooling2d_3 (MaxPooling2 (None, 14, 14, 128)       0         \n",
      "_________________________________________________________________\n",
      "dropout_1 (Dropout)          (None, 14, 14, 128)       0         \n",
      "_________________________________________________________________\n",
      "flatten_1 (Flatten)          (None, 25088)             0         \n",
      "_________________________________________________________________\n",
      "dense_1 (Dense)              (None, 128)               3211392   \n",
      "_________________________________________________________________\n",
      "dropout_2 (Dropout)          (None, 128)               0         \n",
      "_________________________________________________________________\n",
      "dense_2 (Dense)              (None, 1)                 129       \n",
      "=================================================================\n",
      "Total params: 3,304,769\n",
      "Trainable params: 3,304,769\n",
      "Non-trainable params: 0\n",
      "_________________________________________________________________\n"
     ]
    }
   ],
   "source": [
    "model = Sequential()\n",
    "# Add a Convolutional layer, 32 kernels\n",
    "model.add(Conv2D(32, kernel_size=(3, 3), input_shape=(128, 128, 3)))\n",
    "#model.add(BatchNormalization())\n",
    "model.add(Activation(\"relu\"))\n",
    "# Add a pooling layer of shape 2x2\n",
    "model.add(MaxPooling2D(pool_size=(2, 2)))\n",
    "# Add a Convolutional layer, 64 kernels\n",
    "model.add(Conv2D(64, kernel_size=(3, 3)))\n",
    "#model.add(BatchNormalization())\n",
    "model.add(Activation(\"relu\"))\n",
    "# Add a pooling layer of shape 2x2\n",
    "model.add(MaxPooling2D(pool_size=(2, 2)))\n",
    "# Add a Convolutional layer, 128 kernels\n",
    "model.add(Conv2D(128, kernel_size=(3, 3)))\n",
    "#model.add(BatchNormalization())\n",
    "model.add(Activation(\"relu\"))\n",
    "\n",
    "model.add(MaxPooling2D(pool_size=(2, 2)))\n",
    "# Add a dropout layer for regularization\n",
    "#Change in dropout keep_prob por rate, as 1- keeo:prob\n",
    "model.add(Dropout(0.25))\n",
    "model.add(Flatten())\n",
    "# Add a FC layer, 128 inputs -> 1 output\n",
    "model.add(Dense(128, activation='relu'))\n",
    "# Add a dropout layer for regularization\n",
    "model.add(Dropout(0.5))\n",
    "model.add(Dense(1, activation='sigmoid'))\n",
    "model.summary()"
   ]
  },
  {
   "cell_type": "markdown",
   "metadata": {},
   "source": [
    "## Train the model using Data augmentation on the datasets"
   ]
  },
  {
   "cell_type": "code",
   "execution_count": 13,
   "metadata": {
    "collapsed": true
   },
   "outputs": [],
   "source": [
    "# Set the number of samples to train\n",
    "nb_train_samples = len(X_train)\n",
    "# Set the number of samples to validate\n",
    "nb_validation_samples = len(X_val)\n",
    "# Set the epochs\n",
    "epochs_gen=3"
   ]
  },
  {
   "cell_type": "markdown",
   "metadata": {},
   "source": [
    "Then we create a Image data generator indicating some kind of transformation to apply to the images before training. Apply horizontal and vertical flipping, some rotations and width and height shifting."
   ]
  },
  {
   "cell_type": "code",
   "execution_count": 14,
   "metadata": {
    "collapsed": true
   },
   "outputs": [],
   "source": [
    "from keras.preprocessing.image import ImageDataGenerator\n",
    "\n",
    "# define data preparation\n",
    "shift = 0.2\n",
    "# Define the transformation on the train images\n",
    "train_datagen = ImageDataGenerator(horizontal_flip=True, vertical_flip=True, rotation_range=90,\n",
    "                                  width_shift_range=shift, height_shift_range=shift)\n",
    "# In the test set we do not apply any transformation to simulate a real inference scenario \n",
    "valtest_datagen = ImageDataGenerator()\n",
    "\n",
    "#Will aply only a rescale o normalization\n",
    "#train_datagen = ImageDataGenerator(rescale=1. / 255)\n",
    "#valtest_datagen = ImageDataGenerator(rescale=1. / 255)\n"
   ]
  },
  {
   "cell_type": "code",
   "execution_count": 15,
   "metadata": {
    "collapsed": true
   },
   "outputs": [],
   "source": [
    "#Apply the transformation or data augmentation previously defined\n",
    "train_generator = train_datagen.flow(np.array(X_train), y_train, batch_size=batch_size)\n",
    "validation_generator = valtest_datagen.flow(np.array(X_val), y_val, batch_size=batch_size)\n",
    "test_generator = valtest_datagen.flow(np.array(X_test), y_test, batch_size=batch_size)"
   ]
  },
  {
   "cell_type": "code",
   "execution_count": 16,
   "metadata": {},
   "outputs": [
    {
     "name": "stdout",
     "output_type": "stream",
     "text": [
      "Epoch 1/3\n",
      "125/125 [==============================] - 240s 2s/step - loss: 0.3037 - acc: 0.8909 - val_loss: 0.2029 - val_acc: 0.9156\n",
      "Epoch 2/3\n",
      "125/125 [==============================] - 232s 2s/step - loss: 0.2698 - acc: 0.8985 - val_loss: 0.1855 - val_acc: 0.9295\n",
      "Epoch 3/3\n",
      "125/125 [==============================] - 236s 2s/step - loss: 0.2620 - acc: 0.9085 - val_loss: 0.1829 - val_acc: 0.9402\n"
     ]
    }
   ],
   "source": [
    "#Train the model and save the parameters\n",
    "history = model.fit_generator(\n",
    "    train_generator, \n",
    "    steps_per_epoch=nb_train_samples // batch_size,\n",
    "    epochs=epochs_gen,\n",
    "    validation_data=validation_generator,\n",
    "    validation_steps=nb_validation_samples // batch_size\n",
    ")\n"
   ]
  },
  {
   "cell_type": "markdown",
   "metadata": {},
   "source": [
    "### Showing the results"
   ]
  },
  {
   "cell_type": "code",
   "execution_count": 26,
   "metadata": {},
   "outputs": [
    {
     "name": "stdout",
     "output_type": "stream",
     "text": [
      "Test loss: 0.20214661039918772\n",
      "Test accuracy: 0.9512867647058824\n",
      "Metrics:  ['loss', 'acc']\n",
      "Log Loss X_test:  0.20214659127990292\n"
     ]
    }
   ],
   "source": [
    "score = model.evaluate(X_test, y_test, verbose=0)\n",
    "print('Test loss:', score[0])\n",
    "print('Test accuracy:', score[1])\n",
    "print('Metrics: ',model.metrics_names)\n"
   ]
  },
  {
   "cell_type": "markdown",
   "metadata": {},
   "source": [
    "In the next cells we plot some figures with the losses and accuracy on the different datasets and the confussion matrix "
   ]
  },
  {
   "cell_type": "code",
   "execution_count": null,
   "metadata": {
    "collapsed": true
   },
   "outputs": [],
   "source": [
    "# Calculamos la log_loss para X_test\n",
    "from sklearn.metrics import log_loss\n",
    "\n",
    "Y_pred = model.predict_proba(X_test).astype('float64')\n",
    "loss = log_loss(y_test, Y_pred, eps=1e-15)\n",
    "print('Log Loss X_test: ',loss)"
   ]
  },
  {
   "cell_type": "code",
   "execution_count": 25,
   "metadata": {},
   "outputs": [
    {
     "data": {
      "image/png": "[encoded data removed]",
      "text/plain": [
       "<Figure size 1440x432 with 3 Axes>"
      ]
     },
     "metadata": {},
     "output_type": "display_data"
    }
   ],
   "source": [
    "#plt.figure(figsize=(8, 15))\n",
    "#plt.subplot(1,3,1)\n",
    "fig = plt.figure(figsize=(20, 6))\n",
    "ax = fig.add_subplot(131)\n",
    "ax.set_title('Acc vs Loss ({} epochs)'.format(epochs), fontsize=14)\n",
    "ax.plot(history.history['acc'], 'b-', label='Accuracy', lw=4, alpha=0.5)\n",
    "ax.plot(history.history['loss'], 'r--', label='Loss', lw=4, alpha=0.5)\n",
    "ax.legend(fontsize=8)\n",
    "ax.grid(True)\n",
    "\n",
    "acc = history.history['acc']\n",
    "val_acc = history.history['val_acc']\n",
    "loss = history.history['loss']\n",
    "val_loss = history.history['val_loss']\n",
    "epochs = range(1, len(acc) + 1)\n",
    "\n",
    "ax=fig.add_subplot(132)\n",
    "ax.plot(epochs, acc, 'blue', label='Training acc')\n",
    "ax.plot(epochs, val_acc, 'red', label='Validation acc')\n",
    "ax.set_title('Training and validation accuracy')\n",
    "ax.legend()\n",
    "#plt.figure()\n",
    "\n",
    "#plt.subplot(1,3,2)\n",
    "ax=fig.add_subplot(133)\n",
    "ax.plot(epochs, loss, 'blue', label='Training loss')\n",
    "ax.plot(epochs, val_loss, 'red', label='Validation loss')\n",
    "ax.set_title('Training and validation loss')\n",
    "ax.legend()\n",
    "                 \n",
    "plt.show()"
   ]
  },
  {
   "cell_type": "code",
   "execution_count": 15,
   "metadata": {},
   "outputs": [
    {
     "data": {
      "image/png": "[encoded data removed]",
      "text/plain": [
       "<Figure size 360x360 with 2 Axes>"
      ]
     },
     "metadata": {},
     "output_type": "display_data"
    }
   ],
   "source": [
    "import sklearn\n",
    "import itertools\n",
    "from sklearn.metrics import confusion_matrix\n",
    "\n",
    "dict_characters = {0: 'No infected', 1: 'Infected'}\n",
    "def plot_confusion_matrix(cm, classes,\n",
    "                          normalize=False,\n",
    "                          title='Confusion matrix',\n",
    "                          cmap=plt.cm.Blues):\n",
    "    plt.figure(figsize = (4,4))\n",
    "    plt.imshow(cm, interpolation='nearest', cmap=cmap)\n",
    "    plt.title(title)\n",
    "    plt.colorbar()\n",
    "    tick_marks = np.arange(len(classes))\n",
    "    plt.xticks(tick_marks, classes, rotation=90)\n",
    "    plt.yticks(tick_marks, classes)\n",
    "    if normalize:\n",
    "        cm = cm.astype('float') / cm.sum(axis=1)[:, np.newaxis]\n",
    "    thresh = cm.max() / 2.\n",
    "    for i, j in itertools.product(range(cm.shape[0]), range(cm.shape[1])):\n",
    "        plt.text(j, i, cm[i, j],\n",
    "                 horizontalalignment=\"center\",\n",
    "                 color=\"white\" if cm[i, j] > thresh else \"black\")\n",
    "    plt.tight_layout()\n",
    "    plt.ylabel('True label')\n",
    "    plt.xlabel('Predicted label')\n",
    "    plt.show()\n",
    "    \n",
    "a=X_train\n",
    "b=y_train\n",
    "c=X_test\n",
    "d=y_test\n",
    "Y_pred = model.predict_classes(c)\n",
    "confusion_mtx = confusion_matrix(d, Y_pred) \n",
    "plot_confusion_matrix(confusion_mtx, classes = list(dict_characters.values()))"
   ]
  },
  {
   "cell_type": "markdown",
   "metadata": {},
   "source": [
    "### Save the model to disk"
   ]
  },
  {
   "cell_type": "code",
   "execution_count": 24,
   "metadata": {},
   "outputs": [
    {
     "name": "stdout",
     "output_type": "stream",
     "text": [
      "Saved model to disk\n"
     ]
    }
   ],
   "source": [
    "# Save model and hyperparameters to disk\n",
    "\n",
    "# serialize model to JSON\n",
    "model_json = model.to_json()\n",
    "with open(\"model.json\", \"w\") as json_file:\n",
    "    json_file.write(model_json)\n",
    "# serialize weights to HDF5\n",
    "model.save_weights(\"model.h5\")\n",
    "print(\"Saved model to disk\")\n"
   ]
  }
 ],
 "metadata": {
  "kernelspec": {
   "display_name": "Python 3",
   "language": "python",
   "name": "python3"
  },
  "language_info": {
   "codemirror_mode": {
    "name": "ipython",
    "version": 3
   },
   "file_extension": ".py",
   "mimetype": "text/x-python",
   "name": "python",
   "nbconvert_exporter": "python",
   "pygments_lexer": "ipython3",
   "version": "3.6.3"
  }
 },
 "nbformat": 4,
 "nbformat_minor": 2
}