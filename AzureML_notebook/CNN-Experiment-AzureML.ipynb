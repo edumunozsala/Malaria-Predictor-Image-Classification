{
  "cells": [
    {
      "metadata": {
        "collapsed": true
      },
      "cell_type": "markdown",
      "source": "# Malaria predictor: Image classification problem\n\n# Working with Azure ML Experiments\n\nOnce we have trained a model in an experiment on Azure ML Services, the model artifacts and some results are stored in our Azure ML workspace in Azure. In this notebook we will show how we can retrieve our last experiment, check the evaluation results and load the model artifacts to be registered as model in the Azure ML workspace. Then we can deploy a container with that model to be publish for inference purposes.\n\n"
    },
    {
      "metadata": {},
      "cell_type": "markdown",
      "source": "## Importing common libraries "
    },
    {
      "metadata": {
        "trusted": true
      },
      "cell_type": "code",
      "source": "%matplotlib inline\nimport numpy as np\nimport os\nimport matplotlib.pyplot as plt",
      "execution_count": 1,
      "outputs": [
        {
          "output_type": "stream",
          "text": "/home/nbuser/anaconda3_501/lib/python3.6/site-packages/matplotlib/font_manager.py:229: UserWarning: Matplotlib is building the font cache using fc-list. This may take a moment.\n  'Matplotlib is building the font cache using fc-list. '\n",
          "name": "stderr"
        }
      ]
    },
    {
      "metadata": {},
      "cell_type": "markdown",
      "source": "## Creating the global variables for workspace\n\nWe need to set the the variables SUBSCRIPTION_ID, RECOURCE GROUP, WORKSPACE NAME and REGION to identify where our interested experiment is located."
    },
    {
      "metadata": {
        "trusted": true
      },
      "cell_type": "code",
      "source": "import azureml\nfrom azureml.core import Workspace\n\n# check core SDK version number\nprint(\"Azure ML SDK Version: \", azureml.core.VERSION)\n\n\nsubscription_id = os.getenv(\"SUBSCRIPTION_ID\", default=\"83674078-c3fc-41e3-9cf6-93f29065e2a4\")\nresource_group = os.getenv(\"RESOURCE_GROUP\", default=\"CapstoneIA\")\nworkspace_name = os.getenv(\"WORKSPACE_NAME\", default=\"MalariaCNNKeras\")\nworkspace_region = os.getenv(\"WORKSPACE_REGION\", default=\"northeurope\")\n\n#Define the experiment run to retrieve and show\n# We want the last experiment\nselected_run='last'\nresults_path='results'",
      "execution_count": 2,
      "outputs": [
        {
          "output_type": "stream",
          "text": "Azure ML SDK Version:  1.0.45\n",
          "name": "stdout"
        }
      ]
    },
    {
      "metadata": {
        "trusted": true
      },
      "cell_type": "code",
      "source": "\ntry:\n    ws = Workspace(subscription_id = subscription_id, resource_group = resource_group, workspace_name = workspace_name)\n    # write the details of the workspace to a configuration file to the notebook library\n    print(\"Workspace configuration succeeded. Skip the workspace creation steps below\")\nexcept:\n    print(\"Workspace not accessible. Creating a new workspace below\")\n    # Create the workspace using the specified parameters\n    ws = Workspace.create(name = workspace_name,\n                      subscription_id = subscription_id,\n                      resource_group = resource_group, \n                      location = workspace_region,\n                      create_resource_group = True,\n                      exist_ok = True)\n    ws.get_details()\n",
      "execution_count": 3,
      "outputs": [
        {
          "output_type": "stream",
          "text": "Performing interactive authentication. Please follow the instructions on the terminal.\nTo sign in, use a web browser to open the page https://microsoft.com/devicelogin and enter the code FYQF5UF8U to authenticate.\nInteractive authentication successfully completed.\nWorkspace configuration succeeded. Skip the workspace creation steps below\n",
          "name": "stdout"
        }
      ]
    },
    {
      "metadata": {},
      "cell_type": "markdown",
      "source": "## Get the last run of the experiment"
    },
    {
      "metadata": {
        "trusted": true
      },
      "cell_type": "code",
      "source": "from azureml.core import Experiment\n# Get the list of experments in our workspace\nexp = Experiment(workspace=ws, name='speech')\nprint(exp.name)\nprint(exp.list(ws))\n",
      "execution_count": 6,
      "outputs": [
        {
          "output_type": "stream",
          "text": "speech\n[Experiment(Name: malaria,\nWorkspace: MalariaCNNKeras), Experiment(Name: speech,\nWorkspace: MalariaCNNKeras)]\n",
          "name": "stdout"
        }
      ]
    },
    {
      "metadata": {},
      "cell_type": "markdown",
      "source": "We have a list with all the experiments in our workspace, now we want to select the last one"
    },
    {
      "metadata": {
        "trusted": true
      },
      "cell_type": "code",
      "source": "# Get the last run of the experiment\nruns=exp.get_runs()\nif str(selected_run)=='last':\n    run= list(runs)[0]\nelse:\n    run=list(runs)[selected_run-1]\n    \nprint('Run: ',run.number)\n",
      "execution_count": 7,
      "outputs": [
        {
          "output_type": "stream",
          "text": "WARNING - Run Number's semantics may be modified in the future\n",
          "name": "stderr"
        },
        {
          "output_type": "stream",
          "text": "Run:  15\n",
          "name": "stdout"
        }
      ]
    },
    {
      "metadata": {
        "trusted": true
      },
      "cell_type": "code",
      "source": "run.properties",
      "execution_count": 8,
      "outputs": [
        {
          "output_type": "execute_result",
          "execution_count": 8,
          "data": {
            "text/plain": "{'azureml.runsource': 'experiment',\n 'ContentSnapshotId': 'c983b517-5a33-44f4-b4c7-fe868664119e',\n 'AzureML.DerivedImageName': 'azureml/azureml_d11eca37f102303834454016a14b7700'}"
          },
          "metadata": {}
        }
      ]
    },
    {
      "metadata": {},
      "cell_type": "markdown",
      "source": "Lets show the metrics from the training process"
    },
    {
      "metadata": {
        "trusted": true
      },
      "cell_type": "code",
      "source": "metrics = run.get_metrics()",
      "execution_count": 9,
      "outputs": []
    },
    {
      "metadata": {
        "trusted": true
      },
      "cell_type": "code",
      "source": "print('Training Loss: ',metrics['Loss'][len(metrics['Loss'])-1])\nprint('Training Acc: ',metrics['Accuracy'][len(metrics['Accuracy'])-1])\nprint('Final test loss: ',metrics['Final test loss'])\nprint('Final test accuracy: ',metrics['Final test accuracy'])",
      "execution_count": 10,
      "outputs": [
        {
          "output_type": "stream",
          "text": "Training Loss:  10.586494513920375\nTraining Acc:  0.3431919642857143\n",
          "name": "stdout"
        },
        {
          "output_type": "error",
          "ename": "KeyError",
          "evalue": "'Final test loss'",
          "traceback": [
            "\u001b[0;31m---------------------------------------------------------------------------\u001b[0m",
            "\u001b[0;31mKeyError\u001b[0m                                  Traceback (most recent call last)",
            "\u001b[0;32m<ipython-input-10-57828d55d5aa>\u001b[0m in \u001b[0;36m<module>\u001b[0;34m\u001b[0m\n\u001b[1;32m      1\u001b[0m \u001b[0mprint\u001b[0m\u001b[0;34m(\u001b[0m\u001b[0;34m'Training Loss: '\u001b[0m\u001b[0;34m,\u001b[0m\u001b[0mmetrics\u001b[0m\u001b[0;34m[\u001b[0m\u001b[0;34m'Loss'\u001b[0m\u001b[0;34m]\u001b[0m\u001b[0;34m[\u001b[0m\u001b[0mlen\u001b[0m\u001b[0;34m(\u001b[0m\u001b[0mmetrics\u001b[0m\u001b[0;34m[\u001b[0m\u001b[0;34m'Loss'\u001b[0m\u001b[0;34m]\u001b[0m\u001b[0;34m)\u001b[0m\u001b[0;34m-\u001b[0m\u001b[0;36m1\u001b[0m\u001b[0;34m]\u001b[0m\u001b[0;34m)\u001b[0m\u001b[0;34m\u001b[0m\u001b[0m\n\u001b[1;32m      2\u001b[0m \u001b[0mprint\u001b[0m\u001b[0;34m(\u001b[0m\u001b[0;34m'Training Acc: '\u001b[0m\u001b[0;34m,\u001b[0m\u001b[0mmetrics\u001b[0m\u001b[0;34m[\u001b[0m\u001b[0;34m'Accuracy'\u001b[0m\u001b[0;34m]\u001b[0m\u001b[0;34m[\u001b[0m\u001b[0mlen\u001b[0m\u001b[0;34m(\u001b[0m\u001b[0mmetrics\u001b[0m\u001b[0;34m[\u001b[0m\u001b[0;34m'Accuracy'\u001b[0m\u001b[0;34m]\u001b[0m\u001b[0;34m)\u001b[0m\u001b[0;34m-\u001b[0m\u001b[0;36m1\u001b[0m\u001b[0;34m]\u001b[0m\u001b[0;34m)\u001b[0m\u001b[0;34m\u001b[0m\u001b[0m\n\u001b[0;32m----> 3\u001b[0;31m \u001b[0mprint\u001b[0m\u001b[0;34m(\u001b[0m\u001b[0;34m'Final test loss: '\u001b[0m\u001b[0;34m,\u001b[0m\u001b[0mmetrics\u001b[0m\u001b[0;34m[\u001b[0m\u001b[0;34m'Final test loss'\u001b[0m\u001b[0;34m]\u001b[0m\u001b[0;34m)\u001b[0m\u001b[0;34m\u001b[0m\u001b[0m\n\u001b[0m\u001b[1;32m      4\u001b[0m \u001b[0mprint\u001b[0m\u001b[0;34m(\u001b[0m\u001b[0;34m'Final test accuracy: '\u001b[0m\u001b[0;34m,\u001b[0m\u001b[0mmetrics\u001b[0m\u001b[0;34m[\u001b[0m\u001b[0;34m'Final test accuracy'\u001b[0m\u001b[0;34m]\u001b[0m\u001b[0;34m)\u001b[0m\u001b[0;34m\u001b[0m\u001b[0m\n",
            "\u001b[0;31mKeyError\u001b[0m: 'Final test loss'"
          ]
        }
      ]
    },
    {
      "metadata": {
        "trusted": true
      },
      "cell_type": "code",
      "source": "run.download_file('Accuracy vs Loss.png',results_path)",
      "execution_count": 9,
      "outputs": []
    },
    {
      "metadata": {
        "trusted": true
      },
      "cell_type": "code",
      "source": "import matplotlib.image as mpimg\n\nimg=mpimg.imread(results_path+'/Accuracy vs Loss.png')\nimgplot = plt.imshow(img)\nplt.show()",
      "execution_count": 10,
      "outputs": [
        {
          "output_type": "display_data",
          "data": {
            "image/png": "[encoded data removed]",
            "text/plain": "<Figure size 432x288 with 1 Axes>"
          },
          "metadata": {
            "needs_background": "light"
          }
        }
      ]
    },
    {
      "metadata": {
        "trusted": true
      },
      "cell_type": "markdown",
      "source": "## Download the saved model\nIn the training script, the Keras model is saved into two files, model.json and model.h5, in the outputs/models folder on the cluster AmlCompute node. Azure ML automatically uploaded anything written in the ./outputs folder into run history file store. Subsequently, we can use the run object to download the model files. They are under the the outputs/model folder in the run history file store, and are downloaded into a local folder named model."
    },
    {
      "metadata": {
        "trusted": true
      },
      "cell_type": "code",
      "source": "# create a model folder in the current directory\nos.makedirs('./model', exist_ok=True)\n# we check the files in the outputs folder contained in the model folder and download them\nfor f in run.get_file_names():\n    if f.startswith('outputs/model'):\n        output_file_path = os.path.join('./model', f.split('/')[-1])\n        print('Downloading from {} to {} ...'.format(f, output_file_path))\n        run.download_file(name=f, output_file_path=output_file_path)",
      "execution_count": 8,
      "outputs": [
        {
          "output_type": "stream",
          "text": "Downloading from outputs/model/model_generator.h5 to ./model/model_generator.h5 ...\nDownloading from outputs/model/model_generator.json to ./model/model_generator.json ...\n",
          "name": "stdout"
        }
      ]
    },
    {
      "metadata": {},
      "cell_type": "markdown",
      "source": "## Register the model"
    },
    {
      "metadata": {},
      "cell_type": "markdown",
      "source": "We can registry the model generated in the last experiment in our model repository, this allow us to containerized the model and make it publiclly accesible for inference. "
    },
    {
      "metadata": {
        "trusted": true
      },
      "cell_type": "code",
      "source": "model = run.register_model(model_name='malaria_cnn', model_path='outputs/model')",
      "execution_count": null,
      "outputs": []
    },
    {
      "metadata": {},
      "cell_type": "markdown",
      "source": "## Cancel an experiment"
    },
    {
      "metadata": {
        "trusted": true
      },
      "cell_type": "code",
      "source": "run.cancel()",
      "execution_count": 11,
      "outputs": []
    },
    {
      "metadata": {
        "trusted": true
      },
      "cell_type": "code",
      "source": "",
      "execution_count": null,
      "outputs": []
    }
  ],
  "metadata": {
    "kernelspec": {
      "name": "python36",
      "display_name": "Python 3.6",
      "language": "python"
    },
    "language_info": {
      "mimetype": "text/x-python",
      "nbconvert_exporter": "python",
      "name": "python",
      "pygments_lexer": "ipython3",
      "version": "3.6.6",
      "file_extension": ".py",
      "codemirror_mode": {
        "version": 3,
        "name": "ipython"
      }
    }
  },
  "nbformat": 4,
  "nbformat_minor": 2
}